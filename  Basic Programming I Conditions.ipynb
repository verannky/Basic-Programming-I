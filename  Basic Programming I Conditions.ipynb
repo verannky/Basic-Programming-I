{
  "nbformat": 4,
  "nbformat_minor": 5,
  "metadata": {
    "kernelspec": {
      "display_name": "Python 3",
      "language": "python",
      "name": "python3"
    },
    "language_info": {
      "codemirror_mode": {
        "name": "ipython",
        "version": 3
      },
      "file_extension": ".py",
      "mimetype": "text/x-python",
      "name": "python",
      "nbconvert_exporter": "python",
      "pygments_lexer": "ipython3",
      "version": "3.8.8"
    },
    "colab": {
      "name": "Nunky Febilia Verany-Kelompok Hi-Five.ipynb",
      "provenance": []
    }
  },
  "cells": [
    {
      "cell_type": "markdown",
      "metadata": {
        "id": "77cf4011"
      },
      "source": [
        "**No.1 Tarif baru DoCar**\n",
        "\n",
        "Buatlah sebuah program python yang dapat menerima masukan dari pengguna berupa jarak tempuh berupa bilangan integer dengan range (0 – 5,000,000). Program akan mengeluarkan output berupa harga yang harus dibayarkan oleh pengguna angkutan online tersebut."
      ],
      "id": "77cf4011"
    },
    {
      "cell_type": "code",
      "metadata": {
        "id": "053c1afd",
        "outputId": "9ed1f375-1b8d-4d0e-be9a-278c3339288b"
      },
      "source": [
        "jarak=int(input(\"masukkan nilai jarak:\"))\n",
        "tarif1=10000+(jarak*2500)\n",
        "tarif2=10000+(10*2500)+((jarak-10)*2250)\n",
        "tarif3=10000+(10*2500)+(15*2250)+((jarak-25)*2000)\n",
        "tarif4=10000+(10*2500)+(15*2250)+(25*2000)+((jarak-50)*1750)\n",
        "if jarak<=10:\n",
        "    tarif=tarif1\n",
        "    print (\"tarif=\",tarif1)\n",
        "elif jarak>=10 and jarak<=25:\n",
        "    tarif=tarif2\n",
        "    print (\"tarif=\",tarif2)\n",
        "elif jarak>25 and jarak<=50:\n",
        "    tarif=tarif3\n",
        "    print (\"tarif=\",tarif3)\n",
        "elif jarak>50 and jarak<=500:\n",
        "    tarif=tarif4\n",
        "    print (\"tarif=\",tarif4)\n",
        "elif jarak>500 and jarak<5000000:\n",
        "    print (\"tidak bisa melakukan perjalanan, batas maksimal 500 km\")"
      ],
      "id": "053c1afd",
      "execution_count": null,
      "outputs": [
        {
          "name": "stdout",
          "output_type": "stream",
          "text": [
            "masukkan nilai jarak:300\n",
            "tarif= 556250\n"
          ]
        }
      ]
    },
    {
      "cell_type": "markdown",
      "metadata": {
        "id": "91f18f29"
      },
      "source": [
        "**No.2 PENCARIAN si “MIDDLE NUMBER”**\n",
        "\n",
        "Buatlah sebuah program python yang bisa menerima 3 buah integer dari pengguna. Keluaran output adalah mengetahuin letak urutan ke-2 dari 3 buah bilangan tersebut jika diurutkan (bilangan yang berada di tengah / middle number)."
      ],
      "id": "91f18f29"
    },
    {
      "cell_type": "markdown",
      "metadata": {
        "id": "e1b16b90"
      },
      "source": [
        "#Opsi pertama"
      ],
      "id": "e1b16b90"
    },
    {
      "cell_type": "code",
      "metadata": {
        "id": "ebf2ce84",
        "outputId": "c89d002d-355a-4884-9d2d-07067f6e1750"
      },
      "source": [
        "a = int(input(\"angka pertama:\"))\n",
        "b = int(input(\"angka kedua:\"))\n",
        "c = int(input(\"angka ketiga:\"))\n",
        "if a < 5000000 and b < 5000000 and b <5000000:\n",
        "  if a <= b <= c or c <= b <= a:\n",
        "    print (\"bilangan tengah adalah\",b)\n",
        "  elif b <= a <= c or c <= a <= b:\n",
        "    print (\"bilangan tengah adalah\",a)\n",
        "  else:\n",
        "    print (\"bilangan tengah adalah\",c)\n",
        "else :\n",
        "  print(\"bilangan di luar jangkauan\")"
      ],
      "id": "ebf2ce84",
      "execution_count": null,
      "outputs": [
        {
          "name": "stdout",
          "output_type": "stream",
          "text": [
            "angka pertama:5\n",
            "angka kedua:7\n",
            "angka ketiga:20\n",
            "bilangan tengah adalah 7\n"
          ]
        }
      ]
    },
    {
      "cell_type": "markdown",
      "metadata": {
        "id": "c337e539"
      },
      "source": [
        "#Opsi kedua"
      ],
      "id": "c337e539"
    },
    {
      "cell_type": "code",
      "metadata": {
        "id": "8fb242c1",
        "outputId": "3fe5cece-5472-4e14-e206-5548d1c75ce9"
      },
      "source": [
        "import numpy\n",
        "\n",
        "a = int(input(\"angka pertama:\"))\n",
        "b = int(input(\"angka kedua:\"))\n",
        "c = int(input(\"angka ketiga:\"))\n",
        "\n",
        "numbers = [a,b,c]\n",
        "median = numpy.median(numbers)\n",
        "\n",
        "if a < 5000000 and b < 5000000 and b <5000000:\n",
        "  print(median)\n",
        "else:\n",
        "  print(\"bilangan di luar jangkauan\")"
      ],
      "id": "8fb242c1",
      "execution_count": null,
      "outputs": [
        {
          "name": "stdout",
          "output_type": "stream",
          "text": [
            "angka pertama 5\n",
            "angka kedua 7\n",
            "angka ketiga 20\n",
            "7.0\n"
          ]
        }
      ]
    }
  ]
}